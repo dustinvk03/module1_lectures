{
  "nbformat": 4,
  "nbformat_minor": 0,
  "metadata": {
    "colab": {
      "name": "All of Regexone lessons.ipynb",
      "provenance": [],
      "authorship_tag": "ABX9TyMb04wTHmAs46uiWT7BovYF",
      "include_colab_link": true
    },
    "kernelspec": {
      "name": "python3",
      "display_name": "Python 3"
    },
    "language_info": {
      "name": "python"
    }
  },
  "cells": [
    {
      "cell_type": "markdown",
      "metadata": {
        "id": "view-in-github",
        "colab_type": "text"
      },
      "source": [
        "<a href=\"https://colab.research.google.com/github/dustinvk03/module1_lectures/blob/main/All_of_Regexone_lessons.ipynb\" target=\"_parent\"><img src=\"https://colab.research.google.com/assets/colab-badge.svg\" alt=\"Open In Colab\"/></a>"
      ]
    },
    {
      "cell_type": "code",
      "execution_count": 6,
      "metadata": {
        "id": "sO_5KOKsTk4G"
      },
      "outputs": [],
      "source": [
        "import re"
      ]
    },
    {
      "cell_type": "code",
      "source": [
        "# LESSON 1:\n",
        "\n",
        "pattern1 = \"abc\"\n",
        "regex1 = re.compile(pattern1)\n",
        "assert regex1.match('abcdefg')\n",
        "assert regex1.match('abcde')\n",
        "assert regex1.match('abc')"
      ],
      "metadata": {
        "id": "1008-ExuTmWH"
      },
      "execution_count": 7,
      "outputs": []
    },
    {
      "cell_type": "code",
      "source": [
        "# LESSON 1 1/2: \n",
        "\n",
        "pattern2 = \"\\d\"\n",
        "regex2 = re.compile(pattern2)\n",
        "assert regex2.search('abc123xyz')\n",
        "assert regex2.search('define \"123\"')\n",
        "assert regex2.search('var g = 123;')"
      ],
      "metadata": {
        "id": "I4yfKV8OT7dL"
      },
      "execution_count": 15,
      "outputs": []
    },
    {
      "cell_type": "code",
      "source": [
        "# LESSON 2:\n",
        "\n",
        "pattern3 = \"...\\.\"\n",
        "regex3 = re.compile(pattern3)\n",
        "assert regex3.search('cat.')\n",
        "assert regex3.search('896.')\n",
        "assert regex3.search('?=+.')\n",
        "assert not regex3.search('abc1')"
      ],
      "metadata": {
        "id": "Dmc2Z7mjUrmB"
      },
      "execution_count": 25,
      "outputs": []
    },
    {
      "cell_type": "code",
      "source": [
        "# LESSON 3:\n",
        "\n",
        "pattern4 = \"[cmf]an\"\n",
        "regex4 = re.compile(pattern4)\n",
        "assert regex4.search('can')\n",
        "assert regex4.search('man')\n",
        "assert regex4.search('fan')\n",
        "assert not regex4.search('dan')\n",
        "assert not regex4.search('ran')\n",
        "assert not regex4.search('pan')"
      ],
      "metadata": {
        "id": "Y0_wmp6zYdC7"
      },
      "execution_count": 28,
      "outputs": []
    },
    {
      "cell_type": "code",
      "source": [
        "# LESSON 4:\n",
        "\n",
        "pattern5 = \"[^b]og\"\n",
        "regex5 = re.compile(pattern5)\n",
        "assert regex5.search('hog')\n",
        "assert regex5.search('dog')\n",
        "assert not regex5.search('bog')"
      ],
      "metadata": {
        "id": "gMnvgO07Y8KU"
      },
      "execution_count": 32,
      "outputs": []
    },
    {
      "cell_type": "code",
      "source": [
        "# LESSON 5:\n",
        "\n",
        "pattern6 = \"[A-Z][a-z][a-z]\"\n",
        "regex6 = re.compile(pattern6)\n",
        "assert regex6.search('Ana')\n",
        "assert regex6.search('Bob')\n",
        "assert regex6.search('Cpc')\n",
        "assert not regex6.search('aax')\n",
        "assert not regex6.search('bby')\n",
        "assert not regex6.search('ccz')"
      ],
      "metadata": {
        "id": "TAH_vr_9ZlsV"
      },
      "execution_count": 34,
      "outputs": []
    },
    {
      "cell_type": "code",
      "source": [
        "# LESSON 6:\n",
        "\n",
        "pattern7 = \"waz{3,5}up\"\n",
        "regex7 = re.compile(pattern7)\n",
        "assert regex7.search('wazzzzzup')\n",
        "assert regex7.search('wazzzzzup')\n",
        "assert not regex7.search('wazup')"
      ],
      "metadata": {
        "id": "p8ciYp7daOs5"
      },
      "execution_count": 35,
      "outputs": []
    },
    {
      "cell_type": "code",
      "source": [
        "# LESSON 7:\n",
        "\n",
        "pattern8 = \"aa+b*c+\"\n",
        "regex8 = re.compile(pattern8)\n",
        "assert regex8.search('aaaabcc')\n",
        "assert regex8.search('aabbbbc')\n",
        "assert regex8.search('aacc')\n",
        "assert not regex8.search('a')"
      ],
      "metadata": {
        "id": "F1B45DTBaaPl"
      },
      "execution_count": 36,
      "outputs": []
    },
    {
      "cell_type": "code",
      "source": [
        "# LESSON 8:\n",
        "\n",
        "pattern9 = \"\\d\\d? files? found\\?\"\n",
        "regex9 = re.compile(pattern9)\n",
        "assert regex9.search('1 file found?')\n",
        "assert regex9.search('2 files found?')\n",
        "assert regex9.search('24 files found?')"
      ],
      "metadata": {
        "id": "VWlrC6kuZdfX"
      },
      "execution_count": 37,
      "outputs": []
    },
    {
      "cell_type": "code",
      "source": [
        "# LESSON 9:\n",
        "\n",
        "pattern10 = \"\\d.\\s+abc\"\n",
        "regex10 = re.compile(pattern10)\n",
        "assert regex10.search('1.   abc')\n",
        "assert regex10.search('2.\tabc')\n",
        "assert regex10.search('3.           abc')\n",
        "assert not regex10.search('4.abc')"
      ],
      "metadata": {
        "id": "mkRpdqO4bvDJ"
      },
      "execution_count": 38,
      "outputs": []
    },
    {
      "cell_type": "code",
      "source": [
        "# LESSON 10:\n",
        "\n",
        "pattern11 = \"^Mission: successful$\"\n",
        "regex11 = re.compile(pattern11)\n",
        "assert regex11.search('Mission: successful')\n",
        "assert not regex11.search('Last Mission: unsuccessful')\n",
        "assert not regex11.search('Next Mission: successful upon capture of target')"
      ],
      "metadata": {
        "id": "8PYCgV1kcMxM"
      },
      "execution_count": 39,
      "outputs": []
    },
    {
      "cell_type": "code",
      "source": [
        "# LESSON 11:\n",
        "\n",
        "pattern12 = \"^(file\\w+)\\.pdf$\"\n",
        "regex12 = re.compile(pattern12)\n",
        "# assert regex12.search('file_record_transcript.pdf').group()\n",
        "# assert regex12.search('file_07241999.pdf')\n",
        "# assert not regex12.search('testfile_fake.pdf.tmp')\n",
        "print(regex12.search('file_record_transcript.pdf').groups())\n",
        "print(regex12.search('file_07241999.pdf').groups())\n",
        "assert not regex12.search('testfile_fake.pdf.tmp')"
      ],
      "metadata": {
        "colab": {
          "base_uri": "https://localhost:8080/"
        },
        "id": "Y_-W1GaxdVRB",
        "outputId": "1628db5e-9ead-4a6d-8f25-6e1ad325f02c"
      },
      "execution_count": 58,
      "outputs": [
        {
          "output_type": "stream",
          "name": "stdout",
          "text": [
            "('file_record_transcript',)\n",
            "('file_07241999',)\n"
          ]
        }
      ]
    },
    {
      "cell_type": "code",
      "source": [
        "# LESSON 12:\n",
        "\n",
        "pattern13 = \"^(\\w+ (\\d+))$\"\n",
        "regex13 = re.compile(pattern13)\n",
        "print(regex13.search('Jan 1987').groups())\n",
        "print(regex13.search('May 1969').groups())\n",
        "print(regex13.search('Aug 2011').groups())"
      ],
      "metadata": {
        "colab": {
          "base_uri": "https://localhost:8080/"
        },
        "id": "mhSVJsNSc7Ft",
        "outputId": "f172b78d-c681-4102-ae5a-84d3a8efa205"
      },
      "execution_count": 59,
      "outputs": [
        {
          "output_type": "stream",
          "name": "stdout",
          "text": [
            "('Jan 1987', '1987')\n",
            "('May 1969', '1969')\n",
            "('Aug 2011', '2011')\n"
          ]
        }
      ]
    },
    {
      "cell_type": "code",
      "source": [
        "# LESSON 13:\n",
        "\n",
        "pattern14 = \"(\\d{4})x(\\d{3,4})\"\n",
        "regex14 = re.compile(pattern14)\n",
        "print(regex14.search('1280x720').groups())\n",
        "print(regex14.search('1920x1600').groups())\n",
        "print(regex14.search('1024x768').groups())"
      ],
      "metadata": {
        "colab": {
          "base_uri": "https://localhost:8080/"
        },
        "id": "lWyTvsOLhtzg",
        "outputId": "e9fa3850-3f5c-44e2-f123-395eb21d4281"
      },
      "execution_count": 60,
      "outputs": [
        {
          "output_type": "stream",
          "name": "stdout",
          "text": [
            "('1280', '720')\n",
            "('1920', '1600')\n",
            "('1024', '768')\n"
          ]
        }
      ]
    },
    {
      "cell_type": "code",
      "source": [
        "# LESSON 14:\n",
        "\n",
        "pattern15 = \"I love (cats|dogs)\"\n",
        "regex15 = re.compile(pattern15)\n",
        "assert regex15.search('I love cats')\n",
        "assert regex15.search('I love dogs')\n",
        "assert not regex15.search('I love logs')\n",
        "assert not regex15.search('I love cogs')"
      ],
      "metadata": {
        "id": "_RrNNZnIinMe"
      },
      "execution_count": 63,
      "outputs": []
    },
    {
      "cell_type": "code",
      "source": [
        "# LESSON 15:\n",
        "\n",
        "pattern16 = \".*\"\n",
        "regex16 = re.compile(pattern16)\n",
        "assert regex16.search('The quick brown fox jumps over the lazy dog.')\n",
        "assert regex16.search('There were 614 instances of students getting 90.0% or above.')\n",
        "assert regex16.search('I\tThe FCC had to censor the network for saying &$#*@!.')"
      ],
      "metadata": {
        "id": "GttUP19Zkb77"
      },
      "execution_count": 64,
      "outputs": []
    }
  ]
}